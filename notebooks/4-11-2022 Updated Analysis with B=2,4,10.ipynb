{
 "cells": [
  {
   "cell_type": "code",
   "execution_count": 34,
   "id": "07ad59b0",
   "metadata": {
    "scrolled": true
   },
   "outputs": [
    {
     "name": "stderr",
     "output_type": "stream",
     "text": [
      "\u001b[32m\u001b[1m  Activating\u001b[22m\u001b[39m project at `~/workspace/Postdoc/UncertaintyModel`\n"
     ]
    }
   ],
   "source": [
    "include(\"../scripts/analysis.jl\");\n",
    "\n",
    "nbehaviors = 2\n",
    "\n",
    "final_df_B2 = make_endtime_results_df(\n",
    "    \"../data/develop/4-11-2022-Analysis/env_uncertainty=[0.0,0.1,0.2,0.3,0.4,0.5,0.6,0.7,0.8,0.9,1.0]_high_payoff=[0.9]_low_payoff=[0.1,0.5,0.8]_nbehaviors=[2]_niter=1000_ntrials=50_steps_per_round=[1,2,4].jld2\"\n",
    ");\n",
    "\n",
    "\n",
    "plot_soclearn_over_u_sigmoids(final_df_B2, nbehaviors; \n",
    "    figure_dir=\"/Users/mt/workspace/Writing/UncMod/Figures\")\n"
   ]
  },
  {
   "cell_type": "code",
   "execution_count": 35,
   "id": "fa7b9706",
   "metadata": {},
   "outputs": [],
   "source": [
    "nbehaviors = 4\n",
    "\n",
    "final_df_B4 = make_endtime_results_df(\n",
    "    \"../data/develop/4-11-2022-Analysis/env_uncertainty=[0.0,0.1,0.2,0.3,0.4,0.5,0.6,0.7,0.8,0.9,1.0]_high_payoff=[0.9]_low_payoff=[0.1,0.5,0.8]_nbehaviors=[4]_niter=1000_ntrials=20_steps_per_round=[2,4,8].jld2\"\n",
    ");\n",
    "\n",
    "plot_soclearn_over_u_sigmoids(final_df_B4, nbehaviors; \n",
    "    figure_dir=\"/Users/mt/workspace/Writing/UncMod/Figures\")"
   ]
  },
  {
   "cell_type": "code",
   "execution_count": 36,
   "id": "0b5d505e",
   "metadata": {},
   "outputs": [],
   "source": [
    "nbehaviors = 10\n",
    "\n",
    "final_df_B10 = make_endtime_results_df(\n",
    "    \"../data/develop/4-11-2022-Analysis/env_uncertainty=[0.0,0.1,0.2,0.3,0.4,0.5,0.6,0.7,0.8,0.9,1.0]_high_payoff=[0.9]_low_payoff=[0.1,0.5,0.8]_nbehaviors=[10]_niter=1000_ntrials=20_steps_per_round=[5,10,20].jld2\"\n",
    ");\n",
    "\n",
    "\n",
    "plot_soclearn_over_u_sigmoids(final_df_B10, nbehaviors; \n",
    "    figure_dir=\"/Users/mt/workspace/Writing/UncMod/Figures\")"
   ]
  }
 ],
 "metadata": {
  "kernelspec": {
   "display_name": "Julia 1.7.2",
   "language": "julia",
   "name": "julia-1.7"
  },
  "language_info": {
   "file_extension": ".jl",
   "mimetype": "application/julia",
   "name": "julia",
   "version": "1.7.2"
  }
 },
 "nbformat": 4,
 "nbformat_minor": 5
}
